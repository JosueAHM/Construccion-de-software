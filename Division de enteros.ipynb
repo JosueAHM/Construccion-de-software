{
  "nbformat": 4,
  "nbformat_minor": 0,
  "metadata": {
    "colab": {
      "name": "Untitled1.ipynb",
      "provenance": [],
      "authorship_tag": "ABX9TyO+Cpl507DMrGqe9HhRH4ZT",
      "include_colab_link": true
    },
    "kernelspec": {
      "name": "python3",
      "display_name": "Python 3"
    },
    "language_info": {
      "name": "python"
    }
  },
  "cells": [
    {
      "cell_type": "markdown",
      "metadata": {
        "id": "view-in-github",
        "colab_type": "text"
      },
      "source": [
        "<a href=\"https://colab.research.google.com/github/JosueAHM/Construccion-de-software/blob/main/Division%20de%20enteros.ipynb\" target=\"_parent\"><img src=\"https://colab.research.google.com/assets/colab-badge.svg\" alt=\"Open In Colab\"/></a>"
      ]
    },
    {
      "cell_type": "code",
      "execution_count": 2,
      "metadata": {
        "id": "gbjKiyd5B6a5"
      },
      "outputs": [],
      "source": [
        "import unittest"
      ]
    },
    {
      "cell_type": "code",
      "source": [
        "class division_ent:\n",
        "      def __init__(self):\n",
        "        pass\n",
        "      def div (self, a, b):\n",
        "        if b!=0:\n",
        "          return a//b"
      ],
      "metadata": {
        "id": "MCEoGLizCBeo"
      },
      "execution_count": 5,
      "outputs": []
    },
    {
      "cell_type": "code",
      "source": [
        "class TestDivisionEnt(unittest.TestCase):\n",
        "  def test_div(self):\n",
        "        '''Test case function for division'''\n",
        "        self.calc = division_ent()\n",
        "        result = self.calc.div(50, 4)\n",
        "        print(result)"
      ],
      "metadata": {
        "id": "yN-h65e6C6Tc"
      },
      "execution_count": 15,
      "outputs": []
    },
    {
      "cell_type": "code",
      "source": [
        "unittest.main(argv=[''], verbosity=2, exit=False)"
      ],
      "metadata": {
        "colab": {
          "base_uri": "https://localhost:8080/"
        },
        "id": "nrWQeMgIDSNr",
        "outputId": "f9cd7c86-f55c-438f-b067-cced687201d7"
      },
      "execution_count": 16,
      "outputs": [
        {
          "output_type": "stream",
          "name": "stderr",
          "text": [
            "test_div (__main__.TestDivisionEnt)\n",
            "Test case function for division ... "
          ]
        },
        {
          "output_type": "stream",
          "name": "stdout",
          "text": [
            "12\n"
          ]
        },
        {
          "output_type": "stream",
          "name": "stderr",
          "text": [
            "ok\n",
            "\n",
            "----------------------------------------------------------------------\n",
            "Ran 1 test in 0.003s\n",
            "\n",
            "OK\n"
          ]
        },
        {
          "output_type": "execute_result",
          "data": {
            "text/plain": [
              "<unittest.main.TestProgram at 0x7fc4eb752910>"
            ]
          },
          "metadata": {},
          "execution_count": 16
        }
      ]
    }
  ]
}